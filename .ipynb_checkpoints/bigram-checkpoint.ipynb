{
 "cells": [
  {
   "cell_type": "code",
   "execution_count": 11,
   "id": "fe2a7ed7-005d-4ba4-970d-beb672f3ba63",
   "metadata": {},
   "outputs": [
    {
     "name": "stdout",
     "output_type": "stream",
     "text": [
      "cuda\n"
     ]
    }
   ],
   "source": [
    "import torch\n",
    "device= 'cuda' if torch.cuda.is_available() else 'cpu'\n",
    "print(device)\n",
    "block_size=8\n",
    "batch_size=8"
   ]
  },
  {
   "cell_type": "code",
   "execution_count": 12,
   "id": "d3d73c44",
   "metadata": {
    "vscode": {
     "languageId": "plaintext"
    }
   },
   "outputs": [
    {
     "name": "stdout",
     "output_type": "stream",
     "text": [
      "['\\n', ' ', '!', '\"', '#', '$', '%', '&', \"'\", '(', ')', '*', ',', '-', '.', '/', '0', '1', '2', '3', '4', '5', '6', '7', '8', '9', ':', ';', '?', 'A', 'B', 'C', 'D', 'E', 'F', 'G', 'H', 'I', 'J', 'K', 'L', 'M', 'N', 'O', 'P', 'Q', 'R', 'S', 'T', 'U', 'V', 'W', 'X', 'Y', 'Z', '[', ']', '_', 'a', 'b', 'c', 'd', 'e', 'f', 'g', 'h', 'i', 'j', 'k', 'l', 'm', 'n', 'o', 'p', 'q', 'r', 's', 't', 'u', 'v', 'w', 'x', 'y', 'z', '—', '‘', '’', '“', '”', '•', '™', '\\ufeff']\n"
     ]
    }
   ],
   "source": [
    "with open('wizard_of_oz.txt','r',encoding='utf-8') as f:\n",
    "    text = f.read()\n",
    "chars=sorted(set(text))\n",
    "print(chars)"
   ]
  },
  {
   "cell_type": "code",
   "execution_count": 13,
   "id": "a0a3b81d-ac17-4151-9eb5-4f318a1efc9b",
   "metadata": {},
   "outputs": [],
   "source": [
    "string_to_int={ch:i for i,ch in enumerate(chars)}\n",
    "int_to_string={i:ch for i,ch in enumerate(chars)}\n",
    "encode=lambda s:[string_to_int[c] for c in s]\n",
    "decode=lambda l:''.join([int_to_string[i] for i in l ])"
   ]
  },
  {
   "cell_type": "code",
   "execution_count": 14,
   "id": "29e45387-d351-40cb-a495-1ad8fdcce175",
   "metadata": {},
   "outputs": [
    {
     "name": "stdout",
     "output_type": "stream",
     "text": [
      "[65, 62, 69, 69, 72]\n"
     ]
    }
   ],
   "source": [
    "print(encode('hello'))"
   ]
  },
  {
   "cell_type": "code",
   "execution_count": 15,
   "id": "a456d62a-c3ba-4e47-85ae-282184193b06",
   "metadata": {},
   "outputs": [
    {
     "name": "stdout",
     "output_type": "stream",
     "text": [
      "hello\n"
     ]
    }
   ],
   "source": [
    "print(decode([65, 62, 69, 69, 72]))"
   ]
  },
  {
   "cell_type": "code",
   "execution_count": 16,
   "id": "8c28f70e-8edc-414b-bb10-d86ebbad0ac1",
   "metadata": {},
   "outputs": [
    {
     "name": "stdout",
     "output_type": "stream",
     "text": [
      "tensor([91, 48, 65, 62,  1, 44, 75, 72, 67, 62, 60, 77,  1, 35, 78, 77, 62, 71,\n",
      "        59, 62, 75, 64,  1, 62, 30, 72, 72, 68,  1, 72, 63,  1, 32, 72, 75, 72,\n",
      "        77, 65, 82,  1, 58, 71, 61,  1, 77, 65, 62,  1, 51, 66, 83, 58, 75, 61,\n",
      "         1, 66, 71,  1, 43, 83,  0,  1,  1,  1,  1,  0, 48, 65, 66, 76,  1, 62,\n",
      "        59, 72, 72, 68,  1, 66, 76,  1, 63, 72, 75,  1, 77, 65, 62,  1, 78, 76,\n",
      "        62,  1, 72, 63,  1, 58, 71, 82, 72, 71])\n"
     ]
    }
   ],
   "source": [
    "data=torch.tensor(encode(text),dtype=torch.long)\n",
    "print(data[:100])"
   ]
  },
  {
   "cell_type": "code",
   "execution_count": 17,
   "id": "320a8877-a8a0-4633-bbd1-9870943feca5",
   "metadata": {},
   "outputs": [],
   "source": [
    "n=int(0.8*len(data))\n",
    "train_data=data[:n]\n",
    "val_data=data[n:]"
   ]
  },
  {
   "cell_type": "code",
   "execution_count": 18,
   "id": "705e63be-34da-42ba-8a14-7b4d0eb2c7a4",
   "metadata": {},
   "outputs": [
    {
     "name": "stdout",
     "output_type": "stream",
     "text": [
      "input is tensor tensor([91]) target is  tensor(48)\n",
      "input is tensor tensor([91, 48]) target is  tensor(65)\n",
      "input is tensor tensor([91, 48, 65]) target is  tensor(62)\n",
      "input is tensor tensor([91, 48, 65, 62]) target is  tensor(1)\n",
      "input is tensor tensor([91, 48, 65, 62,  1]) target is  tensor(44)\n",
      "input is tensor tensor([91, 48, 65, 62,  1, 44]) target is  tensor(75)\n",
      "input is tensor tensor([91, 48, 65, 62,  1, 44, 75]) target is  tensor(72)\n",
      "input is tensor tensor([91, 48, 65, 62,  1, 44, 75, 72]) target is  tensor(67)\n"
     ]
    }
   ],
   "source": [
    "\n",
    "x=train_data[:block_size] # 0 to 7\n",
    "y=train_data[1:block_size+1] # 1 to 8\n",
    "for t in range (block_size): # 0 to 7\n",
    "    context=x[:t+1] # 0 to t\n",
    "    target=y[t] # tth \n",
    "    print('input is tensor',context,'target is ',target)"
   ]
  }
 ],
 "metadata": {
  "kernelspec": {
   "display_name": "cuda-prompt",
   "language": "python",
   "name": "cuda"
  },
  "language_info": {
   "codemirror_mode": {
    "name": "ipython",
    "version": 3
   },
   "file_extension": ".py",
   "mimetype": "text/x-python",
   "name": "python",
   "nbconvert_exporter": "python",
   "pygments_lexer": "ipython3",
   "version": "3.9.13"
  }
 },
 "nbformat": 4,
 "nbformat_minor": 5
}
